{
 "cells": [
  {
   "cell_type": "code",
   "execution_count": 1,
   "metadata": {},
   "outputs": [],
   "source": [
    "import socket\n",
    "\n",
    "# s = socket.socket(socket.AF_INET, socket.SOCK_STREAM)                 \n",
    "\n",
    "# s.connect((\"84c869a8.ngrok.io\" , 80))\n",
    "# s.sendall(b\"GET / HTTP/1.1\\r\\n\\r\\n\")\n",
    "# print(s.recv(4096))\n",
    "# s.close()"
   ]
  },
  {
   "cell_type": "code",
   "execution_count": 66,
   "metadata": {},
   "outputs": [],
   "source": [
    "s = socket.socket(socket.AF_INET, socket.SOCK_STREAM)          "
   ]
  },
  {
   "cell_type": "code",
   "execution_count": 67,
   "metadata": {},
   "outputs": [],
   "source": []
  },
  {
   "cell_type": "code",
   "execution_count": 68,
   "metadata": {},
   "outputs": [],
   "source": []
  },
  {
   "cell_type": "code",
   "execution_count": 69,
   "metadata": {},
   "outputs": [],
   "source": []
  },
  {
   "cell_type": "code",
   "execution_count": 116,
   "metadata": {},
   "outputs": [
    {
     "ename": "KeyboardInterrupt",
     "evalue": "",
     "output_type": "error",
     "traceback": [
      "\u001b[0;31m---------------------------------------------------------------------------\u001b[0m",
      "\u001b[0;31mKeyboardInterrupt\u001b[0m                         Traceback (most recent call last)",
      "\u001b[0;32m<ipython-input-116-a129ba41de32>\u001b[0m in \u001b[0;36m<module>\u001b[0;34m\u001b[0m\n\u001b[1;32m      4\u001b[0m \u001b[0ms\u001b[0m\u001b[0;34m.\u001b[0m\u001b[0msendall\u001b[0m\u001b[0;34m(\u001b[0m\u001b[0msss\u001b[0m\u001b[0;34m.\u001b[0m\u001b[0mencode\u001b[0m\u001b[0;34m(\u001b[0m\u001b[0;34m)\u001b[0m\u001b[0;34m)\u001b[0m\u001b[0;34m\u001b[0m\u001b[0;34m\u001b[0m\u001b[0m\n\u001b[1;32m      5\u001b[0m \u001b[0ms\u001b[0m\u001b[0;34m.\u001b[0m\u001b[0msettimeout\u001b[0m\u001b[0;34m(\u001b[0m\u001b[0;36m1000\u001b[0m\u001b[0;34m)\u001b[0m\u001b[0;34m\u001b[0m\u001b[0;34m\u001b[0m\u001b[0m\n\u001b[0;32m----> 6\u001b[0;31m \u001b[0mprint\u001b[0m\u001b[0;34m(\u001b[0m\u001b[0ms\u001b[0m\u001b[0;34m.\u001b[0m\u001b[0mrecv\u001b[0m\u001b[0;34m(\u001b[0m\u001b[0;36m65565\u001b[0m\u001b[0;34m)\u001b[0m\u001b[0;34m)\u001b[0m\u001b[0;34m\u001b[0m\u001b[0;34m\u001b[0m\u001b[0m\n\u001b[0m\u001b[1;32m      7\u001b[0m \u001b[0mprint\u001b[0m\u001b[0;34m(\u001b[0m\u001b[0ms\u001b[0m\u001b[0;34m.\u001b[0m\u001b[0mrecv\u001b[0m\u001b[0;34m(\u001b[0m\u001b[0;36m65565\u001b[0m\u001b[0;34m)\u001b[0m\u001b[0;34m)\u001b[0m\u001b[0;34m\u001b[0m\u001b[0;34m\u001b[0m\u001b[0m\n\u001b[1;32m      8\u001b[0m \u001b[0mprint\u001b[0m\u001b[0;34m(\u001b[0m\u001b[0ms\u001b[0m\u001b[0;34m.\u001b[0m\u001b[0mrecv\u001b[0m\u001b[0;34m(\u001b[0m\u001b[0;36m65565\u001b[0m\u001b[0;34m)\u001b[0m\u001b[0;34m)\u001b[0m\u001b[0;34m\u001b[0m\u001b[0;34m\u001b[0m\u001b[0m\n",
      "\u001b[0;31mKeyboardInterrupt\u001b[0m: "
     ]
    }
   ],
   "source": [
    "s = socket.socket(socket.AF_INET, socket.SOCK_STREAM) \n",
    "s.connect((\"localhost\" , 8001))\n",
    "sss=\"POST /api/vehicles/location/creater/ HTTP/1.1\\r\\nHost:localhost\\r\\nContent-Type:application/json;charset=utf-8\\r\\nContent-Length:100\\r\\nConnection:keep-alive\\r\\n\\r\\n{ \\\"latitude\\\": 100000000, \\\"longitude\\\": 19999000, \\\"vehicle\\\": 1}\\r\\n\\r\\n\"\n",
    "s.sendall(sss.encode())\n",
    "s.settimeout(1000)\n",
    "print(s.recv(65565))\n",
    "print(s.recv(65565))\n",
    "print(s.recv(65565))\n",
    "print(s.recv(65565))\n",
    "print(s.recv(65565))\n",
    "print(s.recv(65565))\n",
    "print(s.recv(65565))\n",
    "s.close()\n",
    "s = socket.socket(socket.AF_INET, socket.SOCK_STREAM) \n",
    "s.connect((\"localhost\" , 8001))\n",
    "sss=\"POST /api/vehicles/location/creater/ HTTP/1.1\\r\\nHost:localhost\\r\\nContent-Type:application/json;charset=utf-8\\r\\nContent-Length:100\\r\\nConnection:keep-alive\\r\\n\\r\\n{ \\\"latitude\\\": 100000 , \\\"longitude\\\": 19999, \\\"vehicle\\\": 1}\\r\\n\\r\\n\"\n",
    "s.sendall(sss.encode())\n",
    "s.settimeout(1000)\n",
    "print(s.recv(65565))\n",
    "print(s.recv(65565))\n",
    "print(s.recv(65565))\n",
    "print(s.recv(65565))\n",
    "print(s.recv(65565))\n",
    "print(s.recv(65565))\n",
    "print(s.recv(65565))\n",
    "s.close()\n"
   ]
  },
  {
   "cell_type": "code",
   "execution_count": 114,
   "metadata": {},
   "outputs": [
    {
     "data": {
      "text/plain": [
       "'POST /api/vehicles/location/creater/ HTTP/1.1\\r\\nHost:localhost\\r\\nContent-Type:application/json;charset=utf-8\\r\\nContent-Length:54\\r\\nConnection:keep-alive\\r\\n\\r\\n{ \"latitude\": 100000 , \"longitude\": 19999, \"vehicle\": 1}\\r\\n\\r\\n'"
      ]
     },
     "execution_count": 114,
     "metadata": {},
     "output_type": "execute_result"
    }
   ],
   "source": [
    "sss"
   ]
  },
  {
   "cell_type": "code",
   "execution_count": null,
   "metadata": {},
   "outputs": [],
   "source": [
    "sss = \"POST /api/vehicles/location/creater/ HTTP/1.1\\r\\nHost:84c869a8.ngrok.io\\r\\nContent-Type:application/json;charset=utf-8\\r\\nContent-Length:54\\r\\nConnection:keep-alive\\r\\n\\r\\n{ \\\"latitude\\\": 128, \\\"longitude\\\": \\\"10\\\", \\\"vehicle\\\": 1}\\r\\n\\r\\n\""
   ]
  },
  {
   "cell_type": "code",
   "execution_count": null,
   "metadata": {},
   "outputs": [],
   "source": [
    "v=b\"GET http://84c869a8.ngrok.io/ HTTP/1.1\\r\\n\\r\\n\""
   ]
  },
  {
   "cell_type": "code",
   "execution_count": null,
   "metadata": {},
   "outputs": [],
   "source": [
    "sss=\"POST /api/vehicles/location/creater/ HTTP/1.1\\r\\nHost:84c869a8.ngrok.io\\r\\nUser-Agent:Mozilla/5.0 (X11; Linux x86_64; rv:66.0) Gecko/20100101 Firefox/66.0\\r\\nAccept:application/json, text/plain, */*\\r\\nAccept-Language:en-US,en;q=0.5\\r\\nAccept-Encoding:gzip, deflate\\r\\nReferer:http://127.0.0.1:8082/\\r\\nContent-Type:application/json;charset=utf-8\\r\\nContent-Length:54\\r\\nOrigin:http://127.0.0.1:8082\\r\\nConnection:keep-alive\\r\\n\\r\\n{ \\\"latitude\\\": 2, \\\"longitude\\\": 1, \\\"vehicle\\\": 1}\\r\\n\\r\\n\""
   ]
  },
  {
   "cell_type": "code",
   "execution_count": 93,
   "metadata": {},
   "outputs": [
    {
     "data": {
      "text/plain": [
       "b'POST /api/vehicles/location/creater/ HTTP/1.1\\r\\nHost:localhost\\r\\nContent-Type:application/json;charset=utf-8\\r\\nContent-Length:54\\r\\nConnection:keep-alive\\r\\n\\r\\n{ \"latitude\": 100000, \"longitude\": 19999, \"vehicle\": 1}\\r\\n\\r\\n'"
      ]
     },
     "execution_count": 93,
     "metadata": {},
     "output_type": "execute_result"
    }
   ],
   "source": [
    "sss.encode()"
   ]
  },
  {
   "cell_type": "code",
   "execution_count": null,
   "metadata": {},
   "outputs": [],
   "source": []
  }
 ],
 "metadata": {
  "kernelspec": {
   "display_name": "Python 3",
   "language": "python",
   "name": "python3"
  },
  "language_info": {
   "codemirror_mode": {
    "name": "ipython",
    "version": 3
   },
   "file_extension": ".py",
   "mimetype": "text/x-python",
   "name": "python",
   "nbconvert_exporter": "python",
   "pygments_lexer": "ipython3",
   "version": "3.7.3"
  }
 },
 "nbformat": 4,
 "nbformat_minor": 2
}
